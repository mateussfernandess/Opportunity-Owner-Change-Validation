{
 "cells": [
  {
   "cell_type": "markdown",
   "metadata": {},
   "source": [
    "# Opportunity Owner Change Validation Process \u2013 Demo Notebook\n",
    "\n",
    "This Jupyter notebook demonstrates an automated workflow to validate opportunity owner changes\n",
    "using data structured like Dynamics CRM. The workflow compares Sales Rep intake form submissions \n",
    "(requesting owner changes) with current CRM data and previous audit outcomes, then flags any \n",
    "discrepancies and generates an approval recommendation.\n",
    "\n",
    "- In a real-world scenario:\n",
    "    * The Sales Rep submits a change request through an intake form (user_form_data.csv).\n",
    "    * The CRM audit data and previous audit results would be retrieved via SQL queries \n",
    "      directly from the company database.\n",
    "- In this demonstration:\n",
    "    * All data is synthetic and loaded from CSV files to enable safe public sharing.\n",
    "\n",
    "Follow each cell below for a well-documented, step-by-step validation process."
   ]
  },
  {
   "cell_type": "code",
   "execution_count": null,
   "metadata": {},
   "outputs": [],
   "source": [
    "# Import libraries\n",
    "import pandas as pd\n",
    "import os\n",
    "os.makedirs('../output', exist_ok=True)"
   ]
  },
  {
   "cell_type": "code",
   "execution_count": null,
   "metadata": {},
   "outputs": [],
   "source": [
    "# Load CSV files\n",
    "df_form = pd.read_csv('../data/user_form_data.csv')\n",
    "df_crm = pd.read_csv('../data/crm_audit_data.csv')\n",
    "df_prev = pd.read_csv('../data/previous_audit_data.csv')"
   ]
  },
  {
   "cell_type": "code",
   "execution_count": null,
   "metadata": {},
   "outputs": [],
   "source": [
    "# Add source info\n",
    "df_form['Source'] = 'User Form'\n",
    "df_crm['Source'] = 'CRM'\n",
    "df_form['Opportunity URN'] = df_form['Opportunity URN'].astype(str)\n",
    "df_crm['Opportunity URN'] = df_crm['Opportunity URN'].astype(str)\n",
    "df_prev['Opportunity URN'] = df_prev['Opportunity URN'].astype(str)"
   ]
  },
  {
   "cell_type": "code",
   "execution_count": null,
   "metadata": {},
   "outputs": [],
   "source": [
    "# Combine data\n",
    "cols = ['Source','Opportunity URN','Original Close Date','Opportunity Name','Account Name',\n",
    "        'Ult Parent Customer Urn','Ult Parent Name','Owner','Owner Employee ID','DC Owner',\n",
    "        'DC Owner: Manager','Rep Type','Region','Annualized Amount','Type','Booking Event Type']\n",
    "df_base = pd.concat([df_form[cols], df_crm[cols]], ignore_index=True)"
   ]
  },
  {
   "cell_type": "code",
   "execution_count": null,
   "metadata": {},
   "outputs": [],
   "source": [
    "# Merge previous audit results\n",
    "prev_map = df_prev.set_index('Opportunity URN')['Suggested Action'].to_dict()\n",
    "df_base['Previous Audit Suggested Action'] = df_base['Opportunity URN'].map(prev_map).fillna('No previous audit')"
   ]
  },
  {
   "cell_type": "code",
   "execution_count": null,
   "metadata": {},
   "outputs": [],
   "source": [
    "# Compare and flag changes\n",
    "for col in ['Owner Change?','Region Change?','Rep Type Change?','QO Change?','QO Manager Change?']:\n",
    "    df_base[col] = None\n",
    "\n",
    "for urn in df_base['Opportunity URN'].unique():\n",
    "    rows = df_base[df_base['Opportunity URN'] == urn]\n",
    "    if len(rows) == 2:\n",
    "        form = rows[rows['Source']=='User Form'].iloc[0]\n",
    "        crm = rows[rows['Source']=='CRM'].iloc[0]\n",
    "        for idx in rows.index:\n",
    "            df_base.at[idx, 'Owner Change?'] = form['Owner'] != crm['Owner']\n",
    "            df_base.at[idx, 'Region Change?'] = form['Region'] != crm['Region']\n",
    "            df_base.at[idx, 'Rep Type Change?'] = form['Rep Type'] != crm['Rep Type']\n",
    "            df_base.at[idx, 'QO Change?'] = form['Owner Employee ID'] != crm['Owner Employee ID']\n",
    "            df_base.at[idx, 'QO Manager Change?'] = form['DC Owner: Manager'] != crm['DC Owner: Manager']"
   ]
  },
  {
   "cell_type": "code",
   "execution_count": null,
   "metadata": {},
   "outputs": [],
   "source": [
    "# Generate status and guidance\n",
    "def approval_logic(row):\n",
    "    if row['Owner Change?']: return 'Review'\n",
    "    elif row['Region Change?'] or row['Rep Type Change?']: return 'Adjust'\n",
    "    elif row['QO Change?'] or row['QO Manager Change?']: return 'Adjust'\n",
    "    return 'Approved'\n",
    "\n",
    "def comms_guidance(row):\n",
    "    if row['Owner Change?']: return 'Owner has changed \u2013 please review and validate.'\n",
    "    if row['Region Change?']: return 'Region differs \u2013 check for update.'\n",
    "    if row['Rep Type Change?']: return 'Rep Type mismatch \u2013 investigate.'\n",
    "    if row['QO Change?']: return 'Quota Owner changed \u2013 validate.'\n",
    "    if row['QO Manager Change?']: return 'Quota Owner Manager changed \u2013 review.'\n",
    "    return 'No discrepancies detected.'\n",
    "\n",
    "df_base['Approval Status'] = df_base.apply(approval_logic, axis=1)\n",
    "df_base['Approval Comms Guidance'] = df_base.apply(comms_guidance, axis=1)"
   ]
  },
  {
   "cell_type": "code",
   "execution_count": null,
   "metadata": {},
   "outputs": [],
   "source": [
    "# Save output\n",
    "df_base.to_csv('../output/final_result.csv', index=False)\n",
    "print('\u2705 Output saved to ../output/final_result.csv')"
   ]
  }
 ],
 "metadata": {
  "kernelspec": {
   "display_name": "Python 3",
   "language": "python",
   "name": "python3"
  },
  "language_info": {
   "name": "python",
   "version": "3.8"
  }
 },
 "nbformat": 4,
 "nbformat_minor": 5
}